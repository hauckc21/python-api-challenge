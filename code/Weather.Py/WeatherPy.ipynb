{
 "cells": [
  {
   "cell_type": "markdown",
   "metadata": {},
   "source": [
    "# WeatherPy\n",
    "----\n",
    "\n",
    "#### Note\n",
    "* Instructions have been included for each segment. You do not have to follow them exactly, but they are included to help you think through the steps."
   ]
  },
  {
   "cell_type": "code",
   "execution_count": 1,
   "metadata": {
    "scrolled": true
   },
   "outputs": [],
   "source": [
    "# Dependencies and Setup\n",
    "import matplotlib.pyplot as plt\n",
    "import pandas as pd\n",
    "import numpy as np\n",
    "import requests\n",
    "import time\n",
    "from scipy.stats import linregress\n",
    "\n",
    "# Import API key\n",
    "from api_keys import weather_api_key\n",
    "\n",
    "# Incorporated citipy to determine city based on latitude and longitude\n",
    "from citipy import citipy\n",
    "\n",
    "# Output File (CSV)\n",
    "output_data_file = \"output_data/cities.csv\"\n",
    "\n",
    "# Range of latitudes and longitudes\n",
    "lat_range = (-90, 90)\n",
    "lng_range = (-180, 180)"
   ]
  },
  {
   "cell_type": "markdown",
   "metadata": {},
   "source": [
    "## Generate Cities List"
   ]
  },
  {
   "cell_type": "code",
   "execution_count": 4,
   "metadata": {},
   "outputs": [
    {
     "data": {
      "text/plain": [
       "620"
      ]
     },
     "execution_count": 4,
     "metadata": {},
     "output_type": "execute_result"
    }
   ],
   "source": [
    "# List for holding lat_lngs and cities\n",
    "lat_lngs = []\n",
    "cities = []\n",
    "\n",
    "# Create a set of random lat and lng combinations\n",
    "lats = np.random.uniform(lat_range[0], lat_range[1], size=1500)\n",
    "lngs = np.random.uniform(lng_range[0], lng_range[1], size=1500)\n",
    "lat_lngs = zip(lats, lngs)\n",
    "\n",
    "# Identify nearest city for each lat, lng combination\n",
    "for lat_lng in lat_lngs:\n",
    "    city = citipy.nearest_city(lat_lng[0], lat_lng[1]).city_name\n",
    "    \n",
    "    # If the city is unique, then add it to a our cities list\n",
    "    if city not in cities:\n",
    "        cities.append(city)\n",
    "\n",
    "# Print the city count to confirm sufficient count\n",
    "len(cities)"
   ]
  },
  {
   "cell_type": "markdown",
   "metadata": {},
   "source": [
    "### Perform API Calls\n",
    "* Perform a weather check on each city using a series of successive API calls.\n",
    "* Include a print log of each city as it'sbeing processed (with the city number and city name).\n"
   ]
  },
  {
   "cell_type": "code",
   "execution_count": null,
   "metadata": {},
   "outputs": [
    {
     "name": "stdout",
     "output_type": "stream",
     "text": [
      "Processing Record 1 of Set 0 | butaritari\n",
      "Processing Record 2 of Set 0 | port alfred\n",
      "Processing Record 3 of Set 0 | hasaki\n",
      "Processing Record 4 of Set 0 | port elizabeth\n",
      "Processing Record 5 of Set 0 | vaini\n",
      "Processing Record 6 of Set 0 | saint-philippe\n",
      "Processing Record 7 of Set 0 | alofi\n",
      "Processing Record 8 of Set 0 | constitucion\n",
      "Processing Record 9 of Set 0 | booue\n",
      "Processing Record 10 of Set 0 | brasileia\n",
      "Missing weather information for city named: kaitangata ...hence skipping\n",
      "Processing Record 12 of Set 0 | ushuaia\n",
      "Missing weather information for city named: mataura ...hence skipping\n",
      "Processing Record 14 of Set 0 | arraial do cabo\n",
      "Processing Record 15 of Set 0 | hualmay\n",
      "Processing Record 16 of Set 0 | shurugwi\n",
      "Processing Record 17 of Set 0 | lompoc\n",
      "Processing Record 18 of Set 0 | atuona\n",
      "Missing weather information for city named: hihifo ...hence skipping\n",
      "Processing Record 20 of Set 0 | nome\n",
      "Processing Record 21 of Set 0 | sisimiut\n",
      "Processing Record 22 of Set 0 | maraa\n",
      "Missing weather information for city named: illoqqortoormiut ...hence skipping\n",
      "Processing Record 24 of Set 0 | lebu\n",
      "Processing Record 25 of Set 0 | san quintin\n",
      "Missing weather information for city named: manzil tamim ...hence skipping\n",
      "Processing Record 27 of Set 0 | punta arenas\n",
      "Processing Record 28 of Set 0 | tallahassee\n",
      "Processing Record 29 of Set 0 | norman wells\n",
      "Processing Record 30 of Set 0 | jamestown\n",
      "Missing weather information for city named: nikolskoye ...hence skipping\n",
      "Processing Record 32 of Set 0 | rikitea\n",
      "Missing weather information for city named: umm durman ...hence skipping\n",
      "Processing Record 34 of Set 0 | aripuana\n",
      "Processing Record 35 of Set 0 | hermanus\n",
      "Processing Record 36 of Set 0 | east london\n",
      "Missing weather information for city named: amderma ...hence skipping\n",
      "Processing Record 38 of Set 0 | vaitape\n",
      "Processing Record 39 of Set 0 | cabo san lucas\n",
      "Missing weather information for city named: raudeberg ...hence skipping\n",
      "Processing Record 41 of Set 0 | cherskiy\n",
      "Processing Record 42 of Set 0 | anadyr\n",
      "Processing Record 43 of Set 0 | swan river\n",
      "Processing Record 44 of Set 0 | kodiak\n",
      "Processing Record 45 of Set 0 | karratha\n",
      "Processing Record 46 of Set 0 | torbay\n",
      "Processing Record 47 of Set 0 | alice springs\n",
      "Processing Record 48 of Set 0 | yellowknife\n",
      "Processing Record 49 of Set 0 | bluff\n",
      "Missing weather information for city named: mys shmidta ...hence skipping\n"
     ]
    }
   ],
   "source": [
    "#citipy\n",
    "weather_df = pd.DataFrame({'City': cities})\n",
    "\n",
    "#add additional blank columns to store information from openweathermap api\n",
    "\n",
    "weather_df['Latitude'] = ''\n",
    "weather_df['Longitude'] = ''\n",
    "weather_df['Max Temperature (F)'] = ''\n",
    "weather_df['Humidity (%)'] = ''\n",
    "weather_df['Cloudiness (%)'] = ''\n",
    "weather_df['Wind Speed (mph)'] = ''\n",
    "weather_df[\"Country\"] = ''\n",
    "weather_df['Date'] = ''\n",
    "\n",
    "# keeps count of those cities whose weather information is successfully obtained\n",
    "city_count = 0\n",
    "\n",
    "# initializing # of variables\n",
    "api_call_count = 1 # count for API calls made to OpenWeatherAPI, max 60 counts allowed for free API calls\n",
    "sets = 0 # counter to count the number of call sets\n",
    "t0 = time.time() # get current time\n",
    "\n",
    "#loop through all rows and fill in values for blank columns in dataframe\n",
    "for index,row in weather_df.iterrows():\n",
    "    city_name = row['City']\n",
    "    country_id = row['Country']\n",
    "    \n",
    "    # create a dictionary to contain the query parameters\n",
    "    search_parameters = {\n",
    "        \"q\": str(city_name)+\",\"+str(country_id),\n",
    "        \"units\": \"IMPERIAL\",\n",
    "        \"mode\": \"json\",\n",
    "        \"APPID\": weather_api_key\n",
    "    }\n",
    "    \n",
    "    #api call for all Cities \n",
    "    target_url = \"http://api.openweathermap.org/data/2.5/weather\"\n",
    "    country_info = requests.get(target_url, params = search_parameters).json()\n",
    "    \n",
    "    try:\n",
    "        weather_df.loc[index,'Latitude'] = country_info['coord']['lat']\n",
    "        weather_df.loc[index,'Longitude'] = country_info['coord']['lon']\n",
    "        weather_df.loc[index,'Max Temperature (F)'] = country_info['main']['temp_max']\n",
    "        weather_df.loc[index,'Humidity (%)'] = country_info['main']['humidity']\n",
    "        weather_df.loc[index,'Cloudiness (%)'] = country_info['clouds']['all']\n",
    "        weather_df.loc[index,'Wind Speed (mph)'] = country_info['wind']['speed']\n",
    "        weather_df.loc[index, 'Date'] = country_info['dt']\n",
    "        \n",
    "        #print log for each city\n",
    "        print(f'Processing Record {api_call_count} of Set {sets} | {city_name}' )\n",
    "        \n",
    "        city_count = city_count + 1 # only increment if you get all the weather information\n",
    "    \n",
    "    except KeyError:\n",
    "        weather_df.loc[index,'Latitude'] = np.nan\n",
    "        weather_df.loc[index,'Longitude'] = np.nan\n",
    "        weather_df.loc[index,'Max Temperature (F)'] = np.nan\n",
    "        weather_df.loc[index,'Humidity (%)'] = np.nan\n",
    "        weather_df.loc[index,'Cloudiness (%)'] = np.nan\n",
    "        weather_df.loc[index,'Wind Speed (mph)'] = np.nan\n",
    "        weather_df.loc[index,'Date'] = np.nan\n",
    "        print(f\"Missing weather information for city named: {city_name} ...hence skipping\")\n",
    "    api_call_count = api_call_count + 1        \n",
    "    if api_call_count == 51: # loop to limit 50 API calls per minute. The OpenWeatherMap API limit is 60 calls/min\n",
    "        t1 = time.time()\n",
    "        api_call_count = 1 # reset it for next 50 calls\n",
    "        sets = sets+1\n",
    "        time.sleep(60-(t1-t0))\n",
    "        t0 = time.time()\n",
    "print(f\"Processing successfully completed. Retrieved weather information for {city_count} cities\")"
   ]
  },
  {
   "cell_type": "code",
   "execution_count": null,
   "metadata": {},
   "outputs": [],
   "source": []
  },
  {
   "cell_type": "code",
   "execution_count": null,
   "metadata": {},
   "outputs": [],
   "source": []
  },
  {
   "cell_type": "code",
   "execution_count": null,
   "metadata": {},
   "outputs": [],
   "source": []
  },
  {
   "cell_type": "code",
   "execution_count": null,
   "metadata": {},
   "outputs": [],
   "source": [
    "#Create DataFrame\n",
    "weather_df = pd.DataFrame({\"City\": cities})\n",
    "\n",
    "weather_df[\"Latitude\"] = \"\"\n",
    "weather_df[\"Longitude\"] = \"\"\n",
    "weather_df[\"Max Temp\"] = \"\"\n",
    "weather_df[\"Humidity\"] = \"\"\n",
    "weather_df[\"Cloudiness\"] = \"\"\n",
    "weather_df[\"Wind Speed\"] = \"\"\n",
    "weather_df[\"Country\"] = \"\"\n",
    "weather_df[\"Data\"] = \"\"\n",
    "\n",
    "#Iterate through Cities and retrieve data\n",
    "print(\"Begining Data Retrieval\")\n",
    "print(\"--------------------------\")\n",
    "\n",
    "\n",
    "#Counters for weather loop\n",
    "city_count = 0\n",
    "api_call_count = 1\n",
    "sets = 0\n",
    "\n",
    "for index, row in weather_df.iterrows():\n",
    "    city = row[\"City\"]\n",
    "    \n",
    "    #Create base url\n",
    "    \n",
    "    base_url = \"http://api.openweathermap.org/data/2.5/weather?\"\n",
    "        \n",
    "    #Create query url\n",
    "    query_url = base_url + \"appid=\" + weather_api_key + \"&q=\" + city\n",
    "    weather_response = requests.get(query_url).json()\n",
    "    \n",
    "    try:\n",
    "        print(f\"Processing Record {record} of Set {sets} | {city}.\")\n",
    "\n",
    "        weather_df.loc[index, \"Country\"] = weather_response[\"sys\"][\"country\"]\n",
    "        weather_df.loc[index, \"Date\"] = datetime.datetime.fronttimestamp(weather_response[\"dt\"])\n",
    "        weather_df.loc[index, \"Latitude\"] = weather_response[\"coord\"][\"lat\"]\n",
    "        weather_df.loc[index, \"Longitude\"] = weather_response[\"coord\"][\"lon\"]\n",
    "        weather_df.loc[index, \"Cloudiness\"] = weather_response[\"clouds\"][\"all\"]\n",
    "        weather_df.loc[index, \"Humidity\"] = weather_response[\"main\"][\"humidity\"]\n",
    "        weather_df.loc[index, \"Max Temp\"] = 1.8 * (weather_response[\"main\"][\"temp_max\"] - 273) + 32\n",
    "        weather_df.loc[index, \"Wind Speed\"] = weather_response[\"wind\"][\"speed\"]\n",
    "        \n",
    "        city_count = city_count + 1\n",
    "        \n",
    "    except:\n",
    "        print(f\"City not found...skipping {city}.\")\n",
    "        api_call_count = api_call_count + 1\n",
    "        \n",
    "    if api_call_count == 50:\n",
    "        api_call_count = 1\n",
    "        sets = sets + 1\n",
    "\n",
    "print(\"--------------------------\")\n",
    "print(\"Data Retrieval Complete\")\n",
    "print(\"--------------------------\")"
   ]
  },
  {
   "cell_type": "markdown",
   "metadata": {},
   "source": [
    "### Convert Raw Data to DataFrame\n",
    "* Export the city data into a .csv.\n",
    "* Display the DataFrame"
   ]
  },
  {
   "cell_type": "code",
   "execution_count": null,
   "metadata": {},
   "outputs": [],
   "source": []
  },
  {
   "cell_type": "code",
   "execution_count": null,
   "metadata": {},
   "outputs": [],
   "source": []
  },
  {
   "cell_type": "markdown",
   "metadata": {},
   "source": [
    "## Inspect the data and remove the cities where the humidity > 100%.\n",
    "----\n",
    "Skip this step if there are no cities that have humidity > 100%. "
   ]
  },
  {
   "cell_type": "code",
   "execution_count": null,
   "metadata": {},
   "outputs": [],
   "source": []
  },
  {
   "cell_type": "code",
   "execution_count": null,
   "metadata": {},
   "outputs": [],
   "source": [
    "#  Get the indices of cities that have humidity over 100%.\n"
   ]
  },
  {
   "cell_type": "code",
   "execution_count": null,
   "metadata": {},
   "outputs": [],
   "source": [
    "# Make a new DataFrame equal to the city data to drop all humidity outliers by index.\n",
    "# Passing \"inplace=False\" will make a copy of the city_data DataFrame, which we call \"clean_city_data\".\n"
   ]
  },
  {
   "cell_type": "code",
   "execution_count": null,
   "metadata": {},
   "outputs": [],
   "source": [
    "# Extract relevant fields from the data frame\n",
    "\n",
    "\n",
    "# Export the City_Data into a csv\n"
   ]
  },
  {
   "cell_type": "markdown",
   "metadata": {},
   "source": [
    "## Plotting the Data\n",
    "* Use proper labeling of the plots using plot titles (including date of analysis) and axes labels.\n",
    "* Save the plotted figures as .pngs."
   ]
  },
  {
   "cell_type": "markdown",
   "metadata": {},
   "source": [
    "## Latitude vs. Temperature Plot"
   ]
  },
  {
   "cell_type": "code",
   "execution_count": null,
   "metadata": {
    "scrolled": true
   },
   "outputs": [],
   "source": []
  },
  {
   "cell_type": "markdown",
   "metadata": {},
   "source": [
    "## Latitude vs. Humidity Plot"
   ]
  },
  {
   "cell_type": "code",
   "execution_count": null,
   "metadata": {},
   "outputs": [],
   "source": []
  },
  {
   "cell_type": "markdown",
   "metadata": {},
   "source": [
    "## Latitude vs. Cloudiness Plot"
   ]
  },
  {
   "cell_type": "code",
   "execution_count": null,
   "metadata": {},
   "outputs": [],
   "source": []
  },
  {
   "cell_type": "markdown",
   "metadata": {},
   "source": [
    "## Latitude vs. Wind Speed Plot"
   ]
  },
  {
   "cell_type": "code",
   "execution_count": null,
   "metadata": {},
   "outputs": [],
   "source": []
  },
  {
   "cell_type": "markdown",
   "metadata": {},
   "source": [
    "## Linear Regression"
   ]
  },
  {
   "cell_type": "code",
   "execution_count": null,
   "metadata": {},
   "outputs": [],
   "source": [
    "# OPTIONAL: Create a function to create Linear Regression plots"
   ]
  },
  {
   "cell_type": "code",
   "execution_count": null,
   "metadata": {},
   "outputs": [],
   "source": [
    "# Create Northern and Southern Hemisphere DataFrames"
   ]
  },
  {
   "cell_type": "markdown",
   "metadata": {},
   "source": [
    "####  Northern Hemisphere - Max Temp vs. Latitude Linear Regression"
   ]
  },
  {
   "cell_type": "code",
   "execution_count": null,
   "metadata": {},
   "outputs": [],
   "source": []
  },
  {
   "cell_type": "markdown",
   "metadata": {},
   "source": [
    "####  Southern Hemisphere - Max Temp vs. Latitude Linear Regression"
   ]
  },
  {
   "cell_type": "code",
   "execution_count": null,
   "metadata": {},
   "outputs": [],
   "source": []
  },
  {
   "cell_type": "markdown",
   "metadata": {},
   "source": [
    "####  Northern Hemisphere - Humidity (%) vs. Latitude Linear Regression"
   ]
  },
  {
   "cell_type": "code",
   "execution_count": null,
   "metadata": {},
   "outputs": [],
   "source": []
  },
  {
   "cell_type": "markdown",
   "metadata": {},
   "source": [
    "####  Southern Hemisphere - Humidity (%) vs. Latitude Linear Regression"
   ]
  },
  {
   "cell_type": "code",
   "execution_count": null,
   "metadata": {},
   "outputs": [],
   "source": []
  },
  {
   "cell_type": "markdown",
   "metadata": {},
   "source": [
    "####  Northern Hemisphere - Cloudiness (%) vs. Latitude Linear Regression"
   ]
  },
  {
   "cell_type": "code",
   "execution_count": null,
   "metadata": {},
   "outputs": [],
   "source": []
  },
  {
   "cell_type": "markdown",
   "metadata": {},
   "source": [
    "####  Southern Hemisphere - Cloudiness (%) vs. Latitude Linear Regression"
   ]
  },
  {
   "cell_type": "code",
   "execution_count": null,
   "metadata": {},
   "outputs": [],
   "source": []
  },
  {
   "cell_type": "markdown",
   "metadata": {},
   "source": [
    "####  Northern Hemisphere - Wind Speed (mph) vs. Latitude Linear Regression"
   ]
  },
  {
   "cell_type": "code",
   "execution_count": null,
   "metadata": {},
   "outputs": [],
   "source": []
  },
  {
   "cell_type": "markdown",
   "metadata": {},
   "source": [
    "####  Southern Hemisphere - Wind Speed (mph) vs. Latitude Linear Regression"
   ]
  },
  {
   "cell_type": "code",
   "execution_count": null,
   "metadata": {},
   "outputs": [],
   "source": []
  },
  {
   "cell_type": "code",
   "execution_count": null,
   "metadata": {},
   "outputs": [],
   "source": []
  }
 ],
 "metadata": {
  "anaconda-cloud": {},
  "kernel_info": {
   "name": "python3"
  },
  "kernelspec": {
   "display_name": "Python 3",
   "language": "python",
   "name": "python3"
  },
  "language_info": {
   "codemirror_mode": {
    "name": "ipython",
    "version": 3
   },
   "file_extension": ".py",
   "mimetype": "text/x-python",
   "name": "python",
   "nbconvert_exporter": "python",
   "pygments_lexer": "ipython3",
   "version": "3.6.10"
  },
  "latex_envs": {
   "LaTeX_envs_menu_present": true,
   "autoclose": false,
   "autocomplete": true,
   "bibliofile": "biblio.bib",
   "cite_by": "apalike",
   "current_citInitial": 1,
   "eqLabelWithNumbers": true,
   "eqNumInitial": 1,
   "hotkeys": {
    "equation": "Ctrl-E",
    "itemize": "Ctrl-I"
   },
   "labels_anchors": false,
   "latex_user_defs": false,
   "report_style_numbering": false,
   "user_envs_cfg": false
  },
  "nteract": {
   "version": "0.12.3"
  }
 },
 "nbformat": 4,
 "nbformat_minor": 2
}
