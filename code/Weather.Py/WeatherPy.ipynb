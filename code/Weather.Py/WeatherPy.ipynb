{
 "cells": [
  {
   "cell_type": "markdown",
   "metadata": {},
   "source": [
    "# WeatherPy\n",
    "----\n",
    "\n",
    "#### Note\n",
    "* Instructions have been included for each segment. You do not have to follow them exactly, but they are included to help you think through the steps."
   ]
  },
  {
   "cell_type": "code",
   "execution_count": null,
   "metadata": {
    "scrolled": true
   },
   "outputs": [],
   "source": [
    "# Dependencies and Setup\n",
    "import matplotlib.pyplot as plt\n",
    "import pandas as pd\n",
    "import numpy as np\n",
    "import requests\n",
    "import time\n",
    "from scipy.stats import linregress\n",
    "\n",
    "# Import API key\n",
    "from api_keys import weather_api_key\n",
    "\n",
    "# Incorporated citipy to determine city based on latitude and longitude\n",
    "from citipy import citipy\n",
    "\n",
    "# Output File (CSV)\n",
    "output_data_file = \"output_data/cities.csv\"\n",
    "\n",
    "# Range of latitudes and longitudes\n",
    "lat_range = (-90, 90)\n",
    "lng_range = (-180, 180)"
   ]
  },
  {
   "cell_type": "markdown",
   "metadata": {},
   "source": [
    "## Generate Cities List"
   ]
  },
  {
   "cell_type": "code",
   "execution_count": 2,
   "metadata": {},
   "outputs": [
    {
     "data": {
      "text/plain": [
       "636"
      ]
     },
     "execution_count": 2,
     "metadata": {},
     "output_type": "execute_result"
    }
   ],
   "source": [
    "# List for holding lat_lngs and cities\n",
    "lat_lngs = []\n",
    "cities = []\n",
    "\n",
    "# Create a set of random lat and lng combinations\n",
    "lats = np.random.uniform(lat_range[0], lat_range[1], size=1500)\n",
    "lngs = np.random.uniform(lng_range[0], lng_range[1], size=1500)\n",
    "lat_lngs = zip(lats, lngs)\n",
    "\n",
    "# Identify nearest city for each lat, lng combination\n",
    "for lat_lng in lat_lngs:\n",
    "    city = citipy.nearest_city(lat_lng[0], lat_lng[1]).city_name\n",
    "    \n",
    "    # If the city is unique, then add it to a our cities list\n",
    "    if city not in cities:\n",
    "        cities.append(city)\n",
    "\n",
    "# Print the city count to confirm sufficient count\n",
    "len(cities)"
   ]
  },
  {
   "cell_type": "markdown",
   "metadata": {},
   "source": [
    "### Perform API Calls\n",
    "* Perform a weather check on each city using a series of successive API calls.\n",
    "* Include a print log of each city as it'sbeing processed (with the city number and city name).\n"
   ]
  },
  {
   "cell_type": "code",
   "execution_count": null,
   "metadata": {},
   "outputs": [
    {
     "name": "stdout",
     "output_type": "stream",
     "text": [
      "Processing Record 1 of Set 0 | rikitea\n",
      "City not found. Skipping...\n",
      "Processing Record 3 of Set 0 | kahului\n",
      "Processing Record 4 of Set 0 | lahaina\n",
      "Processing Record 5 of Set 0 | lompoc\n",
      "Processing Record 6 of Set 0 | port moresby\n",
      "City not found. Skipping...\n",
      "Processing Record 8 of Set 0 | ushuaia\n",
      "Processing Record 9 of Set 0 | albany\n",
      "Processing Record 10 of Set 0 | busselton\n",
      "Processing Record 11 of Set 0 | jamestown\n",
      "City not found. Skipping...\n",
      "City not found. Skipping...\n",
      "Processing Record 14 of Set 0 | hermanus\n",
      "Processing Record 15 of Set 0 | sioux lookout\n",
      "City not found. Skipping...\n",
      "Processing Record 17 of Set 0 | punta arenas\n",
      "Processing Record 18 of Set 0 | podgorenskiy\n",
      "Processing Record 19 of Set 0 | dikson\n",
      "Processing Record 20 of Set 0 | codrington\n",
      "City not found. Skipping...\n",
      "Processing Record 22 of Set 0 | belmonte\n",
      "Processing Record 23 of Set 0 | cidreira\n",
      "Processing Record 24 of Set 0 | yellowknife\n",
      "City not found. Skipping...\n",
      "Processing Record 26 of Set 0 | iznoski\n",
      "Processing Record 27 of Set 0 | laramie\n",
      "Processing Record 28 of Set 0 | fairbanks\n",
      "Processing Record 29 of Set 0 | sorland\n",
      "Processing Record 30 of Set 0 | kisangani\n",
      "Processing Record 31 of Set 0 | mancio lima\n",
      "Processing Record 32 of Set 0 | verkhniy baskunchak\n",
      "Processing Record 33 of Set 0 | saskylakh\n",
      "City not found. Skipping...\n",
      "Processing Record 35 of Set 0 | sitka\n",
      "Processing Record 36 of Set 0 | boca do acre\n",
      "Processing Record 37 of Set 0 | guerrero negro\n",
      "Processing Record 38 of Set 0 | libertador general san martin\n",
      "Processing Record 39 of Set 0 | charters towers\n",
      "Processing Record 40 of Set 0 | marawi\n",
      "Processing Record 41 of Set 0 | cape town\n",
      "Processing Record 42 of Set 0 | nome\n",
      "Processing Record 43 of Set 0 | ndjole\n",
      "Processing Record 44 of Set 0 | zhanaozen\n",
      "Processing Record 45 of Set 0 | vaini\n",
      "Processing Record 46 of Set 0 | cedar city\n",
      "Processing Record 47 of Set 0 | puerto ayora\n",
      "Processing Record 48 of Set 0 | karratha\n",
      "City not found. Skipping...\n",
      "Processing Record 50 of Set 0 | new norfolk\n",
      "Processing Record 1 of Set 1 | clyde river\n",
      "Processing Record 2 of Set 1 | labuan\n",
      "Processing Record 3 of Set 1 | shingu\n",
      "Processing Record 4 of Set 1 | port blair\n",
      "Processing Record 5 of Set 1 | ancud\n",
      "Processing Record 6 of Set 1 | namibe\n",
      "City not found. Skipping...\n",
      "Processing Record 8 of Set 1 | kavaratti\n",
      "Processing Record 9 of Set 1 | hithadhoo\n",
      "Processing Record 10 of Set 1 | vieux-habitants\n",
      "Processing Record 11 of Set 1 | salalah\n",
      "Processing Record 12 of Set 1 | beruwala\n",
      "Processing Record 13 of Set 1 | qaanaaq\n",
      "Processing Record 14 of Set 1 | moron\n",
      "Processing Record 15 of Set 1 | woodward\n",
      "Processing Record 16 of Set 1 | butaritari\n",
      "Processing Record 17 of Set 1 | castro\n",
      "Processing Record 18 of Set 1 | darhan\n",
      "Processing Record 19 of Set 1 | thompson\n",
      "Processing Record 20 of Set 1 | port elizabeth\n",
      "Processing Record 21 of Set 1 | flinders\n",
      "Processing Record 22 of Set 1 | sahuaripa\n",
      "Processing Record 23 of Set 1 | port-gentil\n",
      "City not found. Skipping...\n",
      "Processing Record 25 of Set 1 | barrow\n",
      "Processing Record 26 of Set 1 | humaita\n",
      "Processing Record 27 of Set 1 | constitucion\n",
      "Processing Record 28 of Set 1 | namtsy\n",
      "Processing Record 29 of Set 1 | san patricio\n",
      "Processing Record 30 of Set 1 | topolobampo\n",
      "Processing Record 31 of Set 1 | sao felix do xingu\n",
      "Processing Record 32 of Set 1 | rockhampton\n",
      "Processing Record 33 of Set 1 | torbay\n",
      "City not found. Skipping...\n",
      "Processing Record 35 of Set 1 | chaihe\n",
      "Processing Record 36 of Set 1 | belz\n",
      "City not found. Skipping...\n",
      "Processing Record 38 of Set 1 | hami\n",
      "Processing Record 39 of Set 1 | kruisfontein\n",
      "Processing Record 40 of Set 1 | atuona\n",
      "City not found. Skipping...\n",
      "Processing Record 42 of Set 1 | kapaa\n",
      "City not found. Skipping...\n",
      "Processing Record 44 of Set 1 | chuy\n",
      "Processing Record 45 of Set 1 | tuktoyaktuk\n",
      "City not found. Skipping...\n",
      "Processing Record 47 of Set 1 | homer\n",
      "City not found. Skipping...\n",
      "Processing Record 49 of Set 1 | talnakh\n",
      "Processing Record 50 of Set 1 | souillac\n",
      "Processing Record 1 of Set 2 | poum\n",
      "City not found. Skipping...\n",
      "Processing Record 3 of Set 2 | port hardy\n",
      "Processing Record 4 of Set 2 | inta\n",
      "City not found. Skipping...\n",
      "Processing Record 6 of Set 2 | reshetylivka\n",
      "Processing Record 7 of Set 2 | saint george\n",
      "Processing Record 8 of Set 2 | mar del plata\n",
      "Processing Record 9 of Set 2 | luderitz\n",
      "Processing Record 10 of Set 2 | saldanha\n",
      "Processing Record 11 of Set 2 | rio casca\n",
      "Processing Record 12 of Set 2 | bathsheba\n",
      "Processing Record 13 of Set 2 | hualmay\n",
      "Processing Record 14 of Set 2 | shunyi\n",
      "Processing Record 15 of Set 2 | sabang\n",
      "Processing Record 16 of Set 2 | katsuura\n",
      "Processing Record 17 of Set 2 | benguela\n",
      "Processing Record 18 of Set 2 | dum duma\n",
      "Processing Record 19 of Set 2 | hirara\n",
      "Processing Record 20 of Set 2 | georgetown\n",
      "Processing Record 21 of Set 2 | sarkand\n",
      "Processing Record 22 of Set 2 | bluff\n",
      "City not found. Skipping...\n",
      "Processing Record 24 of Set 2 | dyersburg\n",
      "Processing Record 25 of Set 2 | la ronge\n",
      "Processing Record 26 of Set 2 | fukue\n",
      "City not found. Skipping...\n",
      "Processing Record 28 of Set 2 | saint-philippe\n",
      "Processing Record 29 of Set 2 | kavieng\n",
      "Processing Record 30 of Set 2 | pacific grove\n",
      "Processing Record 31 of Set 2 | fukumitsu\n",
      "Processing Record 32 of Set 2 | hobyo\n",
      "Processing Record 33 of Set 2 | vao\n",
      "Processing Record 34 of Set 2 | makakilo city\n",
      "Processing Record 35 of Set 2 | karasuk\n",
      "City not found. Skipping...\n",
      "Processing Record 37 of Set 2 | carnarvon\n",
      "Processing Record 38 of Set 2 | lagoa\n",
      "Processing Record 39 of Set 2 | colares\n",
      "Processing Record 40 of Set 2 | buluang\n",
      "Processing Record 41 of Set 2 | kushiro\n",
      "Processing Record 42 of Set 2 | mount isa\n",
      "Processing Record 43 of Set 2 | mattoon\n",
      "Processing Record 44 of Set 2 | meulaboh\n",
      "Processing Record 45 of Set 2 | khatanga\n",
      "Processing Record 46 of Set 2 | pahrump\n",
      "Processing Record 47 of Set 2 | waipawa\n",
      "Processing Record 48 of Set 2 | san clemente\n",
      "Processing Record 49 of Set 2 | pilikwe\n",
      "Processing Record 50 of Set 2 | ubon ratchathani\n",
      "Processing Record 1 of Set 3 | kurmanayevka\n",
      "Processing Record 2 of Set 3 | kununurra\n",
      "Processing Record 3 of Set 3 | atar\n",
      "Processing Record 4 of Set 3 | sao filipe\n",
      "Processing Record 5 of Set 3 | lavrentiya\n",
      "Processing Record 6 of Set 3 | maham\n",
      "Processing Record 7 of Set 3 | asau\n",
      "Processing Record 8 of Set 3 | santa cruz\n",
      "City not found. Skipping...\n",
      "Processing Record 10 of Set 3 | east london\n",
      "Processing Record 11 of Set 3 | san juan\n",
      "Processing Record 12 of Set 3 | galle\n",
      "Processing Record 13 of Set 3 | verkhnevilyuysk\n",
      "Processing Record 14 of Set 3 | panguna\n",
      "Processing Record 15 of Set 3 | tura\n",
      "Processing Record 16 of Set 3 | rio gallegos\n",
      "Processing Record 17 of Set 3 | ribeira grande\n",
      "Processing Record 18 of Set 3 | ostrovnoy\n",
      "Processing Record 19 of Set 3 | bambous virieux\n",
      "Processing Record 20 of Set 3 | arraial do cabo\n",
      "Processing Record 21 of Set 3 | akureyri\n",
      "Processing Record 22 of Set 3 | urucara\n",
      "Processing Record 23 of Set 3 | tasiilaq\n",
      "Processing Record 24 of Set 3 | harper\n",
      "Processing Record 25 of Set 3 | faanui\n",
      "Processing Record 26 of Set 3 | denpasar\n",
      "Processing Record 27 of Set 3 | fairlie\n",
      "City not found. Skipping...\n",
      "Processing Record 29 of Set 3 | kingisepp\n",
      "Processing Record 30 of Set 3 | alice springs\n",
      "Processing Record 31 of Set 3 | kathu\n",
      "Processing Record 32 of Set 3 | avarua\n",
      "Processing Record 33 of Set 3 | hilo\n",
      "Processing Record 34 of Set 3 | merauke\n",
      "Processing Record 35 of Set 3 | esperance\n",
      "Processing Record 36 of Set 3 | bhuj\n",
      "Processing Record 37 of Set 3 | itoman\n",
      "City not found. Skipping...\n",
      "City not found. Skipping...\n",
      "Processing Record 40 of Set 3 | salaga\n",
      "Processing Record 41 of Set 3 | tucumcari\n",
      "Processing Record 42 of Set 3 | bredasdorp\n",
      "Processing Record 43 of Set 3 | porto novo\n",
      "Processing Record 44 of Set 3 | grindavik\n",
      "Processing Record 45 of Set 3 | kodiak\n",
      "Processing Record 46 of Set 3 | sinnamary\n",
      "Processing Record 47 of Set 3 | yulara\n",
      "Processing Record 48 of Set 3 | dubbo\n",
      "Processing Record 49 of Set 3 | aklavik\n",
      "City not found. Skipping...\n",
      "Processing Record 1 of Set 4 | ponta do sol\n",
      "Processing Record 2 of Set 4 | akdagmadeni\n",
      "Processing Record 3 of Set 4 | sambava\n",
      "Processing Record 4 of Set 4 | mukhen\n",
      "Processing Record 5 of Set 4 | port alfred\n",
      "Processing Record 6 of Set 4 | bengkulu\n",
      "City not found. Skipping...\n",
      "Processing Record 8 of Set 4 | lufilufi\n"
     ]
    },
    {
     "name": "stdout",
     "output_type": "stream",
     "text": [
      "Processing Record 9 of Set 4 | sibolga\n",
      "City not found. Skipping...\n",
      "Processing Record 11 of Set 4 | honiara\n",
      "Processing Record 12 of Set 4 | taman\n",
      "Processing Record 13 of Set 4 | pisco\n",
      "Processing Record 14 of Set 4 | valavanur\n",
      "Processing Record 15 of Set 4 | asfi\n",
      "Processing Record 16 of Set 4 | kodinsk\n",
      "Processing Record 17 of Set 4 | svetlogorsk\n",
      "Processing Record 18 of Set 4 | nemuro\n",
      "Processing Record 19 of Set 4 | galbshtadt\n",
      "Processing Record 20 of Set 4 | narsaq\n",
      "Processing Record 21 of Set 4 | davila\n",
      "Processing Record 22 of Set 4 | naryan-mar\n",
      "Processing Record 23 of Set 4 | praia\n",
      "Processing Record 24 of Set 4 | cherskiy\n",
      "Processing Record 25 of Set 4 | uyo\n",
      "Processing Record 26 of Set 4 | zhuhai\n",
      "Processing Record 27 of Set 4 | vila velha\n",
      "Processing Record 28 of Set 4 | amuntai\n",
      "Processing Record 29 of Set 4 | longyearbyen\n",
      "City not found. Skipping...\n",
      "City not found. Skipping...\n",
      "Processing Record 32 of Set 4 | labytnangi\n",
      "Processing Record 33 of Set 4 | loandjili\n",
      "Processing Record 34 of Set 4 | sumbe\n",
      "Processing Record 35 of Set 4 | severo-kurilsk\n",
      "Processing Record 36 of Set 4 | yumen\n",
      "Processing Record 37 of Set 4 | tiksi\n",
      "Processing Record 38 of Set 4 | pokrovsk\n",
      "Processing Record 39 of Set 4 | marsaxlokk\n",
      "Processing Record 40 of Set 4 | lagunas\n",
      "Processing Record 41 of Set 4 | jinka\n",
      "Processing Record 42 of Set 4 | linxia\n",
      "Processing Record 43 of Set 4 | nsoko\n",
      "City not found. Skipping...\n",
      "City not found. Skipping...\n",
      "City not found. Skipping...\n",
      "Processing Record 47 of Set 4 | hobart\n",
      "City not found. Skipping...\n",
      "Processing Record 49 of Set 4 | parit buntar\n",
      "Processing Record 50 of Set 4 | walvis bay\n"
     ]
    }
   ],
   "source": [
    "#citipy\n",
    "weather_df = pd.DataFrame({'City': cities})\n",
    "\n",
    "#add additional blank columns to store information from openweathermap api\n",
    "\n",
    "weather_df['Latitude'] = ''\n",
    "weather_df['Longitude'] = ''\n",
    "weather_df['Max Temperature (F)'] = ''\n",
    "weather_df['Humidity (%)'] = ''\n",
    "weather_df['Cloudiness (%)'] = ''\n",
    "weather_df['Wind Speed (mph)'] = ''\n",
    "weather_df[\"Country\"] = ''\n",
    "weather_df['Date'] = ''\n",
    "\n",
    "# keeps count of those cities whose weather information is successfully obtained\n",
    "city_count = 0\n",
    "\n",
    "# initializing # of variables\n",
    "api_call_count = 1 # count for API calls made to OpenWeatherAPI, max 60 counts allowed for free API calls\n",
    "sets = 0 # counter to count the number of call sets\n",
    "t0 = time.time() # get current time\n",
    "\n",
    "#loop through all rows and fill in values for blank columns in dataframe\n",
    "for index,row in weather_df.iterrows():\n",
    "    city_name = row['City']\n",
    "    country_id = row['Country']\n",
    "    \n",
    "    # create a dictionary to contain the query parameters\n",
    "   \n",
    "    \n",
    "    search_parameters = {\n",
    "        \"q\": str(city_name)+\",\"+str(country_id),\n",
    "        \"units\": \"IMPERIAL\",\n",
    "        \"mode\": \"json\",\n",
    "        \"APPID\": weather_api_key\n",
    "    }\n",
    "    \n",
    "    #api call for all Cities \n",
    "    xweather_response = requests.get(query_url).json()\n",
    "    xquery_url = base_url + \"appid=\" + weather_api_key + \"&q=\" + city\n",
    "    \n",
    "    base_url = \"http://api.openweathermap.org/data/2.5/weather\"\n",
    "    weather_response = requests.get(base_url, params = search_parameters).json()\n",
    "    \n",
    "    try:\n",
    "        weather_df.loc[index,'Latitude'] = weather_response['coord']['lat']\n",
    "        weather_df.loc[index,'Longitude'] = weather_response['coord']['lon']\n",
    "        weather_df.loc[index,'Max Temperature (F)'] = weather_response['main']['temp_max']\n",
    "        weather_df.loc[index,'Humidity (%)'] = weather_response['main']['humidity']\n",
    "        weather_df.loc[index,'Cloudiness (%)'] = weather_response['clouds']['all']\n",
    "        weather_df.loc[index,'Wind Speed (mph)'] = weather_response['wind']['speed']\n",
    "        weather_df.loc[index, 'Date'] = weather_response['dt']\n",
    "        \n",
    "        #print log for each city\n",
    "        print(f'Processing Record {api_call_count} of Set {sets} | {city_name}' )\n",
    "        \n",
    "        city_count = city_count + 1 # only increment if you get all the weather information\n",
    "    \n",
    "    except KeyError:\n",
    "        weather_df.loc[index,'Latitude'] = np.nan\n",
    "        weather_df.loc[index,'Longitude'] = np.nan\n",
    "        weather_df.loc[index,'Max Temperature (F)'] = np.nan\n",
    "        weather_df.loc[index,'Humidity (%)'] = np.nan\n",
    "        weather_df.loc[index,'Cloudiness (%)'] = np.nan\n",
    "        weather_df.loc[index,'Wind Speed (mph)'] = np.nan\n",
    "        weather_df.loc[index,'Date'] = np.nan\n",
    "        print(f\"City not found. Skipping...\") #deleted {city}\n",
    "    api_call_count = api_call_count + 1        \n",
    "    if api_call_count == 51: # loop to limit 50 API calls per minute. The OpenWeatherMap API limit is 60 calls/min\n",
    "        t1 = time.time()\n",
    "        api_call_count = 1 # reset it for next 50 calls\n",
    "        sets = sets+1\n",
    "        time.sleep(60-(t1-t0))\n",
    "        t0 = time.time()\n",
    "print(f\"Processing successfully completed. Retrieved weather information for {city_count} cities\")"
   ]
  },
  {
   "cell_type": "code",
   "execution_count": null,
   "metadata": {},
   "outputs": [],
   "source": []
  },
  {
   "cell_type": "code",
   "execution_count": null,
   "metadata": {},
   "outputs": [],
   "source": []
  },
  {
   "cell_type": "code",
   "execution_count": null,
   "metadata": {},
   "outputs": [],
   "source": []
  },
  {
   "cell_type": "code",
   "execution_count": null,
   "metadata": {},
   "outputs": [],
   "source": [
    "#Create DataFrame\n",
    "weather_df = pd.DataFrame({\"City\": cities})\n",
    "\n",
    "weather_df[\"Latitude\"] = \"\"\n",
    "weather_df[\"Longitude\"] = \"\"\n",
    "weather_df[\"Max Temp\"] = \"\"\n",
    "weather_df[\"Humidity\"] = \"\"\n",
    "weather_df[\"Cloudiness\"] = \"\"\n",
    "weather_df[\"Wind Speed\"] = \"\"\n",
    "weather_df[\"Country\"] = \"\"\n",
    "weather_df[\"Data\"] = \"\"\n",
    "\n",
    "#Iterate through Cities and retrieve data\n",
    "print(\"Begining Data Retrieval\")\n",
    "print(\"--------------------------\")\n",
    "\n",
    "\n",
    "#Counters for weather loop\n",
    "city_count = 0\n",
    "api_call_count = 1\n",
    "sets = 0\n",
    "\n",
    "for index, row in weather_df.iterrows():\n",
    "    city = row[\"City\"]\n",
    "    \n",
    "    #Create base url\n",
    "    \n",
    "    base_url = \"http://api.openweathermap.org/data/2.5/weather?\"\n",
    "        \n",
    "    #Create query url\n",
    "    query_url = base_url + \"appid=\" + weather_api_key + \"&q=\" + city\n",
    "    weather_response = requests.get(query_url).json()\n",
    "    \n",
    "    try:\n",
    "        print(f\"Processing Record {record} of Set {sets} | {city}.\")\n",
    "\n",
    "        weather_df.loc[index, \"Country\"] = weather_response[\"sys\"][\"country\"]\n",
    "        weather_df.loc[index, \"Date\"] = datetime.datetime.fronttimestamp(weather_response[\"dt\"])\n",
    "        weather_df.loc[index, \"Latitude\"] = weather_response[\"coord\"][\"lat\"]\n",
    "        weather_df.loc[index, \"Longitude\"] = weather_response[\"coord\"][\"lon\"]\n",
    "        weather_df.loc[index, \"Cloudiness\"] = weather_response[\"clouds\"][\"all\"]\n",
    "        weather_df.loc[index, \"Humidity\"] = weather_response[\"main\"][\"humidity\"]\n",
    "        weather_df.loc[index, \"Max Temp\"] = 1.8 * (weather_response[\"main\"][\"temp_max\"] - 273) + 32\n",
    "        weather_df.loc[index, \"Wind Speed\"] = weather_response[\"wind\"][\"speed\"]\n",
    "        \n",
    "        city_count = city_count + 1\n",
    "        \n",
    "    except:\n",
    "        print(f\"City not found...skipping {city}.\")\n",
    "        api_call_count = api_call_count + 1\n",
    "        \n",
    "    if api_call_count == 50:\n",
    "        api_call_count = 1\n",
    "        sets = sets + 1\n",
    "\n",
    "print(\"--------------------------\")\n",
    "print(\"Data Retrieval Complete\")\n",
    "print(\"--------------------------\")"
   ]
  },
  {
   "cell_type": "markdown",
   "metadata": {},
   "source": [
    "### Convert Raw Data to DataFrame\n",
    "* Export the city data into a .csv.\n",
    "* Display the DataFrame"
   ]
  },
  {
   "cell_type": "code",
   "execution_count": null,
   "metadata": {},
   "outputs": [],
   "source": []
  },
  {
   "cell_type": "code",
   "execution_count": null,
   "metadata": {},
   "outputs": [],
   "source": []
  },
  {
   "cell_type": "markdown",
   "metadata": {},
   "source": [
    "## Inspect the data and remove the cities where the humidity > 100%.\n",
    "----\n",
    "Skip this step if there are no cities that have humidity > 100%. "
   ]
  },
  {
   "cell_type": "code",
   "execution_count": null,
   "metadata": {},
   "outputs": [],
   "source": []
  },
  {
   "cell_type": "code",
   "execution_count": null,
   "metadata": {},
   "outputs": [],
   "source": [
    "#  Get the indices of cities that have humidity over 100%.\n"
   ]
  },
  {
   "cell_type": "code",
   "execution_count": null,
   "metadata": {},
   "outputs": [],
   "source": [
    "# Make a new DataFrame equal to the city data to drop all humidity outliers by index.\n",
    "# Passing \"inplace=False\" will make a copy of the city_data DataFrame, which we call \"clean_city_data\".\n"
   ]
  },
  {
   "cell_type": "code",
   "execution_count": null,
   "metadata": {},
   "outputs": [],
   "source": [
    "# Extract relevant fields from the data frame\n",
    "\n",
    "\n",
    "# Export the City_Data into a csv\n"
   ]
  },
  {
   "cell_type": "markdown",
   "metadata": {},
   "source": [
    "## Plotting the Data\n",
    "* Use proper labeling of the plots using plot titles (including date of analysis) and axes labels.\n",
    "* Save the plotted figures as .pngs."
   ]
  },
  {
   "cell_type": "markdown",
   "metadata": {},
   "source": [
    "## Latitude vs. Temperature Plot"
   ]
  },
  {
   "cell_type": "code",
   "execution_count": null,
   "metadata": {
    "scrolled": true
   },
   "outputs": [],
   "source": []
  },
  {
   "cell_type": "markdown",
   "metadata": {},
   "source": [
    "## Latitude vs. Humidity Plot"
   ]
  },
  {
   "cell_type": "code",
   "execution_count": null,
   "metadata": {},
   "outputs": [],
   "source": []
  },
  {
   "cell_type": "markdown",
   "metadata": {},
   "source": [
    "## Latitude vs. Cloudiness Plot"
   ]
  },
  {
   "cell_type": "code",
   "execution_count": null,
   "metadata": {},
   "outputs": [],
   "source": []
  },
  {
   "cell_type": "markdown",
   "metadata": {},
   "source": [
    "## Latitude vs. Wind Speed Plot"
   ]
  },
  {
   "cell_type": "code",
   "execution_count": null,
   "metadata": {},
   "outputs": [],
   "source": []
  },
  {
   "cell_type": "markdown",
   "metadata": {},
   "source": [
    "## Linear Regression"
   ]
  },
  {
   "cell_type": "code",
   "execution_count": null,
   "metadata": {},
   "outputs": [],
   "source": [
    "# OPTIONAL: Create a function to create Linear Regression plots"
   ]
  },
  {
   "cell_type": "code",
   "execution_count": null,
   "metadata": {},
   "outputs": [],
   "source": [
    "# Create Northern and Southern Hemisphere DataFrames"
   ]
  },
  {
   "cell_type": "markdown",
   "metadata": {},
   "source": [
    "####  Northern Hemisphere - Max Temp vs. Latitude Linear Regression"
   ]
  },
  {
   "cell_type": "code",
   "execution_count": null,
   "metadata": {},
   "outputs": [],
   "source": []
  },
  {
   "cell_type": "markdown",
   "metadata": {},
   "source": [
    "####  Southern Hemisphere - Max Temp vs. Latitude Linear Regression"
   ]
  },
  {
   "cell_type": "code",
   "execution_count": null,
   "metadata": {},
   "outputs": [],
   "source": []
  },
  {
   "cell_type": "markdown",
   "metadata": {},
   "source": [
    "####  Northern Hemisphere - Humidity (%) vs. Latitude Linear Regression"
   ]
  },
  {
   "cell_type": "code",
   "execution_count": null,
   "metadata": {},
   "outputs": [],
   "source": []
  },
  {
   "cell_type": "markdown",
   "metadata": {},
   "source": [
    "####  Southern Hemisphere - Humidity (%) vs. Latitude Linear Regression"
   ]
  },
  {
   "cell_type": "code",
   "execution_count": null,
   "metadata": {},
   "outputs": [],
   "source": []
  },
  {
   "cell_type": "markdown",
   "metadata": {},
   "source": [
    "####  Northern Hemisphere - Cloudiness (%) vs. Latitude Linear Regression"
   ]
  },
  {
   "cell_type": "code",
   "execution_count": null,
   "metadata": {},
   "outputs": [],
   "source": []
  },
  {
   "cell_type": "markdown",
   "metadata": {},
   "source": [
    "####  Southern Hemisphere - Cloudiness (%) vs. Latitude Linear Regression"
   ]
  },
  {
   "cell_type": "code",
   "execution_count": null,
   "metadata": {},
   "outputs": [],
   "source": []
  },
  {
   "cell_type": "markdown",
   "metadata": {},
   "source": [
    "####  Northern Hemisphere - Wind Speed (mph) vs. Latitude Linear Regression"
   ]
  },
  {
   "cell_type": "code",
   "execution_count": null,
   "metadata": {},
   "outputs": [],
   "source": []
  },
  {
   "cell_type": "markdown",
   "metadata": {},
   "source": [
    "####  Southern Hemisphere - Wind Speed (mph) vs. Latitude Linear Regression"
   ]
  },
  {
   "cell_type": "code",
   "execution_count": null,
   "metadata": {},
   "outputs": [],
   "source": []
  },
  {
   "cell_type": "code",
   "execution_count": null,
   "metadata": {},
   "outputs": [],
   "source": []
  }
 ],
 "metadata": {
  "anaconda-cloud": {},
  "kernel_info": {
   "name": "python3"
  },
  "kernelspec": {
   "display_name": "Python 3",
   "language": "python",
   "name": "python3"
  },
  "language_info": {
   "codemirror_mode": {
    "name": "ipython",
    "version": 3
   },
   "file_extension": ".py",
   "mimetype": "text/x-python",
   "name": "python",
   "nbconvert_exporter": "python",
   "pygments_lexer": "ipython3",
   "version": "3.6.10"
  },
  "latex_envs": {
   "LaTeX_envs_menu_present": true,
   "autoclose": false,
   "autocomplete": true,
   "bibliofile": "biblio.bib",
   "cite_by": "apalike",
   "current_citInitial": 1,
   "eqLabelWithNumbers": true,
   "eqNumInitial": 1,
   "hotkeys": {
    "equation": "Ctrl-E",
    "itemize": "Ctrl-I"
   },
   "labels_anchors": false,
   "latex_user_defs": false,
   "report_style_numbering": false,
   "user_envs_cfg": false
  },
  "nteract": {
   "version": "0.12.3"
  }
 },
 "nbformat": 4,
 "nbformat_minor": 2
}
